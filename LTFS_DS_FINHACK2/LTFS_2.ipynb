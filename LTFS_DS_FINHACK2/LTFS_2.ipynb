{
 "cells": [
  {
   "cell_type": "code",
   "execution_count": 164,
   "metadata": {
    "collapsed": true
   },
   "outputs": [],
   "source": [
    "import pandas as pd\n",
    "import numpy as np\n",
    "import matplotlib.pyplot as plt\n",
    "%matplotlib inline\n",
    "import seaborn as sns\n",
    "from sklearn.model_selection import train_test_split,KFold,cross_val_score,RandomizedSearchCV,GridSearchCV\n",
    "from sklearn.linear_model import LinearRegression,Ridge,Lasso\n",
    "from sklearn.ensemble import RandomForestRegressor\n",
    "from sklearn.metrics.scorer import make_scorer"
   ]
  },
  {
   "cell_type": "code",
   "execution_count": 165,
   "metadata": {
    "collapsed": true
   },
   "outputs": [],
   "source": [
    "train = pd.read_csv(\"train_fwYjLYX.csv\",parse_dates=['application_date'])\n",
    "test  = pd.read_csv(\"test_1eLl9Yf.csv\",parse_dates=['application_date'])"
   ]
  },
  {
   "cell_type": "code",
   "execution_count": 166,
   "metadata": {
    "collapsed": false
   },
   "outputs": [
    {
     "name": "stdout",
     "output_type": "stream",
     "text": [
      "Shape of Training Data:(80402, 6)\n",
      "Shape of Testing Data:(180, 3)\n"
     ]
    }
   ],
   "source": [
    "print (\"Shape of Training Data:{}\".format(train.shape))\n",
    "print (\"Shape of Testing Data:{}\".format(test.shape))"
   ]
  },
  {
   "cell_type": "code",
   "execution_count": 167,
   "metadata": {
    "collapsed": false
   },
   "outputs": [],
   "source": [
    "Submission = test[['id','application_date','segment']]\n",
    "test.drop('id',axis=1,inplace=True)"
   ]
  },
  {
   "cell_type": "markdown",
   "metadata": {},
   "source": [
    "### EDA- Train Data"
   ]
  },
  {
   "cell_type": "code",
   "execution_count": 168,
   "metadata": {
    "collapsed": false
   },
   "outputs": [
    {
     "name": "stdout",
     "output_type": "stream",
     "text": [
      "<class 'pandas.core.frame.DataFrame'>\n",
      "RangeIndex: 80402 entries, 0 to 80401\n",
      "Data columns (total 6 columns):\n",
      "application_date    80402 non-null datetime64[ns]\n",
      "segment             80402 non-null int64\n",
      "branch_id           66898 non-null float64\n",
      "state               80402 non-null object\n",
      "zone                66898 non-null object\n",
      "case_count          80402 non-null float64\n",
      "dtypes: datetime64[ns](1), float64(2), int64(1), object(2)\n",
      "memory usage: 11.9 MB\n"
     ]
    }
   ],
   "source": [
    "train.info(memory_usage='deep')"
   ]
  },
  {
   "cell_type": "markdown",
   "metadata": {},
   "source": [
    "1. There are missing values in branch_id and zone variables.\n",
    "2. application_date variable is read as datetime type.\n",
    "3. Dependent variable does not have missing values. "
   ]
  },
  {
   "cell_type": "code",
   "execution_count": 169,
   "metadata": {
    "collapsed": false
   },
   "outputs": [
    {
     "data": {
      "text/plain": [
       "(Timestamp('2019-07-23 00:00:00'), Timestamp('2017-04-01 00:00:00'))"
      ]
     },
     "execution_count": 169,
     "metadata": {},
     "output_type": "execute_result"
    }
   ],
   "source": [
    "train['application_date'].max(), train['application_date'].min()\n",
    "# Training data starts from 1st of April 2017 and ends at 23rd of July 2019. Roughly 2 years of data."
   ]
  },
  {
   "cell_type": "code",
   "execution_count": 170,
   "metadata": {
    "collapsed": false
   },
   "outputs": [
    {
     "data": {
      "text/plain": [
       "Text(0, 0.5, 'Count')"
      ]
     },
     "execution_count": 170,
     "metadata": {},
     "output_type": "execute_result"
    },
    {
     "data": {
      "image/png": "[encoded data removed]",
      "text/plain": [
       "<Figure size 432x288 with 1 Axes>"
      ]
     },
     "metadata": {},
     "output_type": "display_data"
    }
   ],
   "source": [
    "sns.countplot(train['segment'],order=train['segment'].value_counts().index)\n",
    "plt.title(\"Distribution of Segment Variable\")\n",
    "plt.xlabel(\"Segment\")\n",
    "plt.ylabel(\"Count\")\n",
    "# Lot more values of Segment1 than Segment2"
   ]
  },
  {
   "cell_type": "code",
   "execution_count": 171,
   "metadata": {
    "collapsed": false
   },
   "outputs": [
    {
     "data": {
      "text/plain": [
       "NaN       13504\n",
       " 159.0      806\n",
       " 17.0       806\n",
       " 67.0       806\n",
       " 269.0      806\n",
       " 74.0       806\n",
       " 268.0      806\n",
       " 135.0      806\n",
       " 62.0       806\n",
       " 271.0      806\n",
       "Name: branch_id, dtype: int64"
      ]
     },
     "execution_count": 171,
     "metadata": {},
     "output_type": "execute_result"
    }
   ],
   "source": [
    "train['branch_id'].value_counts(dropna=False).head(10)\n",
    "# All of the branch_id's have the same count i.e. 806 and this variable has 13504 missing values."
   ]
  },
  {
   "cell_type": "code",
   "execution_count": 172,
   "metadata": {
    "collapsed": false
   },
   "outputs": [
    {
     "name": "stdout",
     "output_type": "stream",
     "text": [
      "Number of Unique Branch_Id's in Training Data:83\n"
     ]
    }
   ],
   "source": [
    "print (\"Number of Unique Branch_Id's in Training Data:{}\".format(train['branch_id'].nunique()))\n",
    "# 83 unique branch_id's in total in training dataset."
   ]
  },
  {
   "cell_type": "code",
   "execution_count": 173,
   "metadata": {
    "collapsed": false
   },
   "outputs": [
    {
     "data": {
      "text/plain": [
       "(array([ 0,  1,  2,  3,  4,  5,  6,  7,  8,  9, 10, 11, 12, 13, 14, 15, 16,\n",
       "        17, 18, 19]), <a list of 20 Text xticklabel objects>)"
      ]
     },
     "execution_count": 173,
     "metadata": {},
     "output_type": "execute_result"
    },
    {
     "data": {
      "image/png": "[encoded data removed]",
      "text/plain": [
       "<Figure size 720x432 with 1 Axes>"
      ]
     },
     "metadata": {},
     "output_type": "display_data"
    }
   ],
   "source": [
    "plt.figure(figsize=(10,6))\n",
    "sns.countplot(train['state'],order=train['state'].value_counts(dropna=False).index)\n",
    "plt.title(\"Distribution of State variable\")\n",
    "plt.xlabel(\"State\")\n",
    "plt.ylabel(\"Count\")\n",
    "plt.xticks(rotation=90)\n",
    "# Maharashtra has the largest count followed by West Bengal and Gujarat, Delhi has the least count."
   ]
  },
  {
   "cell_type": "code",
   "execution_count": 174,
   "metadata": {
    "collapsed": false
   },
   "outputs": [
    {
     "data": {
      "text/plain": [
       "Text(0, 0.5, 'Count')"
      ]
     },
     "execution_count": 174,
     "metadata": {},
     "output_type": "execute_result"
    },
    {
     "data": {
      "image/png": "[encoded data removed]",
      "text/plain": [
       "<Figure size 432x288 with 1 Axes>"
      ]
     },
     "metadata": {},
     "output_type": "display_data"
    }
   ],
   "source": [
    "train['zone'].value_counts(dropna=False).plot(kind='bar')\n",
    "plt.title(\"Distribution of zone variable\")\n",
    "plt.xlabel(\"zone\")\n",
    "plt.ylabel(\"Count\")\n",
    "# East has the highest count and Central has the least count, lot of missing values here."
   ]
  },
  {
   "cell_type": "code",
   "execution_count": 175,
   "metadata": {
    "collapsed": false
   },
   "outputs": [
    {
     "data": {
      "text/plain": [
       "count    80402.000000\n",
       "mean       185.481841\n",
       "std        749.602925\n",
       "min          0.000000\n",
       "25%          0.000000\n",
       "50%         18.000000\n",
       "75%         60.000000\n",
       "max      13787.000000\n",
       "Name: case_count, dtype: float64"
      ]
     },
     "execution_count": 175,
     "metadata": {},
     "output_type": "execute_result"
    }
   ],
   "source": [
    "train['case_count'].describe()"
   ]
  },
  {
   "cell_type": "markdown",
   "metadata": {},
   "source": [
    "Some observations with respect to the dependent variable,\n",
    "1. Maximum case count is 13787 which is exceptionally high.\n",
    "2. Minimum case count is 0 which is understandable. \n",
    "3. Average value is 185 and the Median value is 18, so the distribution will be somewhat skewed. "
   ]
  },
  {
   "cell_type": "code",
   "execution_count": 176,
   "metadata": {
    "collapsed": false
   },
   "outputs": [
    {
     "data": {
      "text/plain": [
       "<matplotlib.axes._subplots.AxesSubplot at 0x1c2beb93a20>"
      ]
     },
     "execution_count": 176,
     "metadata": {},
     "output_type": "execute_result"
    },
    {
     "data": {
      "image/png": "[encoded data removed]",
      "text/plain": [
       "<Figure size 432x288 with 1 Axes>"
      ]
     },
     "metadata": {},
     "output_type": "display_data"
    }
   ],
   "source": [
    "sns.distplot(train['case_count'],kde=False,bins=50)\n",
    "# As we can see a lot of 0 values. "
   ]
  },
  {
   "cell_type": "code",
   "execution_count": 177,
   "metadata": {
    "collapsed": false
   },
   "outputs": [
    {
     "data": {
      "text/html": [
       "<div>\n",
       "<table border=\"1\" class=\"dataframe\">\n",
       "  <thead>\n",
       "    <tr style=\"text-align: right;\">\n",
       "      <th></th>\n",
       "      <th>application_date</th>\n",
       "      <th>segment</th>\n",
       "      <th>branch_id</th>\n",
       "      <th>state</th>\n",
       "      <th>zone</th>\n",
       "      <th>case_count</th>\n",
       "    </tr>\n",
       "  </thead>\n",
       "  <tbody>\n",
       "    <tr>\n",
       "      <th>0</th>\n",
       "      <td>2017-04-01</td>\n",
       "      <td>1</td>\n",
       "      <td>1.0</td>\n",
       "      <td>WEST BENGAL</td>\n",
       "      <td>EAST</td>\n",
       "      <td>40.0</td>\n",
       "    </tr>\n",
       "    <tr>\n",
       "      <th>1</th>\n",
       "      <td>2017-04-03</td>\n",
       "      <td>1</td>\n",
       "      <td>1.0</td>\n",
       "      <td>WEST BENGAL</td>\n",
       "      <td>EAST</td>\n",
       "      <td>5.0</td>\n",
       "    </tr>\n",
       "    <tr>\n",
       "      <th>2</th>\n",
       "      <td>2017-04-04</td>\n",
       "      <td>1</td>\n",
       "      <td>1.0</td>\n",
       "      <td>WEST BENGAL</td>\n",
       "      <td>EAST</td>\n",
       "      <td>4.0</td>\n",
       "    </tr>\n",
       "    <tr>\n",
       "      <th>3</th>\n",
       "      <td>2017-04-05</td>\n",
       "      <td>1</td>\n",
       "      <td>1.0</td>\n",
       "      <td>WEST BENGAL</td>\n",
       "      <td>EAST</td>\n",
       "      <td>113.0</td>\n",
       "    </tr>\n",
       "    <tr>\n",
       "      <th>4</th>\n",
       "      <td>2017-04-07</td>\n",
       "      <td>1</td>\n",
       "      <td>1.0</td>\n",
       "      <td>WEST BENGAL</td>\n",
       "      <td>EAST</td>\n",
       "      <td>76.0</td>\n",
       "    </tr>\n",
       "  </tbody>\n",
       "</table>\n",
       "</div>"
      ],
      "text/plain": [
       "  application_date  segment  branch_id        state  zone  case_count\n",
       "0       2017-04-01        1        1.0  WEST BENGAL  EAST        40.0\n",
       "1       2017-04-03        1        1.0  WEST BENGAL  EAST         5.0\n",
       "2       2017-04-04        1        1.0  WEST BENGAL  EAST         4.0\n",
       "3       2017-04-05        1        1.0  WEST BENGAL  EAST       113.0\n",
       "4       2017-04-07        1        1.0  WEST BENGAL  EAST        76.0"
      ]
     },
     "execution_count": 177,
     "metadata": {},
     "output_type": "execute_result"
    }
   ],
   "source": [
    "train.head()"
   ]
  },
  {
   "cell_type": "markdown",
   "metadata": {},
   "source": [
    "### Bi-Variate Analysis"
   ]
  },
  {
   "cell_type": "code",
   "execution_count": 178,
   "metadata": {
    "collapsed": false
   },
   "outputs": [
    {
     "data": {
      "text/html": [
       "<div>\n",
       "<table border=\"1\" class=\"dataframe\">\n",
       "  <thead>\n",
       "    <tr style=\"text-align: right;\">\n",
       "      <th></th>\n",
       "      <th>min</th>\n",
       "      <th>max</th>\n",
       "      <th>mean</th>\n",
       "      <th>median</th>\n",
       "      <th>std</th>\n",
       "    </tr>\n",
       "    <tr>\n",
       "      <th>segment</th>\n",
       "      <th></th>\n",
       "      <th></th>\n",
       "      <th></th>\n",
       "      <th></th>\n",
       "      <th></th>\n",
       "    </tr>\n",
       "  </thead>\n",
       "  <tbody>\n",
       "    <tr>\n",
       "      <th>1</th>\n",
       "      <td>0.0</td>\n",
       "      <td>1890.0</td>\n",
       "      <td>32.707106</td>\n",
       "      <td>14.0</td>\n",
       "      <td>61.591868</td>\n",
       "    </tr>\n",
       "    <tr>\n",
       "      <th>2</th>\n",
       "      <td>0.0</td>\n",
       "      <td>13787.0</td>\n",
       "      <td>942.318646</td>\n",
       "      <td>371.0</td>\n",
       "      <td>1624.339623</td>\n",
       "    </tr>\n",
       "  </tbody>\n",
       "</table>\n",
       "</div>"
      ],
      "text/plain": [
       "         min      max        mean  median          std\n",
       "segment                                               \n",
       "1        0.0   1890.0   32.707106    14.0    61.591868\n",
       "2        0.0  13787.0  942.318646   371.0  1624.339623"
      ]
     },
     "execution_count": 178,
     "metadata": {},
     "output_type": "execute_result"
    }
   ],
   "source": [
    "train.groupby('segment')['case_count'].agg(['min','max','mean','median','std'])\n",
    "# We can see that the Maximum value of case_count belongs to segment 2. \n",
    "# all these values for segment1 are higher than segment2."
   ]
  },
  {
   "cell_type": "code",
   "execution_count": 179,
   "metadata": {
    "collapsed": false
   },
   "outputs": [
    {
     "data": {
      "text/html": [
       "<div>\n",
       "<table border=\"1\" class=\"dataframe\">\n",
       "  <thead>\n",
       "    <tr style=\"text-align: right;\">\n",
       "      <th></th>\n",
       "      <th>count</th>\n",
       "      <th>min</th>\n",
       "      <th>max</th>\n",
       "      <th>mean</th>\n",
       "      <th>median</th>\n",
       "      <th>std</th>\n",
       "      <th>sum</th>\n",
       "    </tr>\n",
       "    <tr>\n",
       "      <th>state</th>\n",
       "      <th></th>\n",
       "      <th></th>\n",
       "      <th></th>\n",
       "      <th></th>\n",
       "      <th></th>\n",
       "      <th></th>\n",
       "      <th></th>\n",
       "    </tr>\n",
       "  </thead>\n",
       "  <tbody>\n",
       "    <tr>\n",
       "      <th>DELHI</th>\n",
       "      <td>806</td>\n",
       "      <td>0.0</td>\n",
       "      <td>1488.0</td>\n",
       "      <td>168.486352</td>\n",
       "      <td>136.0</td>\n",
       "      <td>148.757794</td>\n",
       "      <td>135800.0</td>\n",
       "    </tr>\n",
       "    <tr>\n",
       "      <th>UTTARAKHAND</th>\n",
       "      <td>1612</td>\n",
       "      <td>0.0</td>\n",
       "      <td>383.0</td>\n",
       "      <td>24.782258</td>\n",
       "      <td>20.0</td>\n",
       "      <td>27.525605</td>\n",
       "      <td>39949.0</td>\n",
       "    </tr>\n",
       "    <tr>\n",
       "      <th>TELANGANA</th>\n",
       "      <td>1612</td>\n",
       "      <td>0.0</td>\n",
       "      <td>1038.0</td>\n",
       "      <td>56.153226</td>\n",
       "      <td>0.0</td>\n",
       "      <td>88.913544</td>\n",
       "      <td>90519.0</td>\n",
       "    </tr>\n",
       "    <tr>\n",
       "      <th>KERALA</th>\n",
       "      <td>1650</td>\n",
       "      <td>0.0</td>\n",
       "      <td>3369.0</td>\n",
       "      <td>496.008485</td>\n",
       "      <td>39.5</td>\n",
       "      <td>722.016808</td>\n",
       "      <td>818414.0</td>\n",
       "    </tr>\n",
       "    <tr>\n",
       "      <th>CHHATTISGARH</th>\n",
       "      <td>1650</td>\n",
       "      <td>0.0</td>\n",
       "      <td>1111.0</td>\n",
       "      <td>181.298788</td>\n",
       "      <td>22.5</td>\n",
       "      <td>241.012685</td>\n",
       "      <td>299143.0</td>\n",
       "    </tr>\n",
       "    <tr>\n",
       "      <th>MADHYA PRADESH</th>\n",
       "      <td>1650</td>\n",
       "      <td>0.0</td>\n",
       "      <td>2350.0</td>\n",
       "      <td>348.672121</td>\n",
       "      <td>87.0</td>\n",
       "      <td>455.859267</td>\n",
       "      <td>575309.0</td>\n",
       "    </tr>\n",
       "    <tr>\n",
       "      <th>TRIPURA</th>\n",
       "      <td>2456</td>\n",
       "      <td>0.0</td>\n",
       "      <td>997.0</td>\n",
       "      <td>82.313111</td>\n",
       "      <td>32.0</td>\n",
       "      <td>142.665541</td>\n",
       "      <td>202161.0</td>\n",
       "    </tr>\n",
       "    <tr>\n",
       "      <th>JHARKHAND</th>\n",
       "      <td>2456</td>\n",
       "      <td>0.0</td>\n",
       "      <td>833.0</td>\n",
       "      <td>69.036645</td>\n",
       "      <td>20.0</td>\n",
       "      <td>137.794878</td>\n",
       "      <td>169554.0</td>\n",
       "    </tr>\n",
       "    <tr>\n",
       "      <th>BIHAR</th>\n",
       "      <td>3262</td>\n",
       "      <td>0.0</td>\n",
       "      <td>7691.0</td>\n",
       "      <td>419.025445</td>\n",
       "      <td>25.0</td>\n",
       "      <td>1111.541528</td>\n",
       "      <td>1366861.0</td>\n",
       "    </tr>\n",
       "    <tr>\n",
       "      <th>KARNATAKA</th>\n",
       "      <td>3262</td>\n",
       "      <td>0.0</td>\n",
       "      <td>5202.0</td>\n",
       "      <td>519.345494</td>\n",
       "      <td>35.0</td>\n",
       "      <td>972.285346</td>\n",
       "      <td>1694105.0</td>\n",
       "    </tr>\n",
       "    <tr>\n",
       "      <th>ORISSA</th>\n",
       "      <td>3262</td>\n",
       "      <td>0.0</td>\n",
       "      <td>5831.0</td>\n",
       "      <td>408.938688</td>\n",
       "      <td>45.0</td>\n",
       "      <td>950.226384</td>\n",
       "      <td>1333958.0</td>\n",
       "    </tr>\n",
       "    <tr>\n",
       "      <th>ASSAM</th>\n",
       "      <td>4068</td>\n",
       "      <td>0.0</td>\n",
       "      <td>3208.0</td>\n",
       "      <td>187.618240</td>\n",
       "      <td>28.0</td>\n",
       "      <td>454.378089</td>\n",
       "      <td>763231.0</td>\n",
       "    </tr>\n",
       "    <tr>\n",
       "      <th>HARYANA</th>\n",
       "      <td>4068</td>\n",
       "      <td>0.0</td>\n",
       "      <td>118.0</td>\n",
       "      <td>2.961652</td>\n",
       "      <td>0.0</td>\n",
       "      <td>7.547701</td>\n",
       "      <td>12048.0</td>\n",
       "    </tr>\n",
       "    <tr>\n",
       "      <th>ANDHRA PRADESH</th>\n",
       "      <td>4836</td>\n",
       "      <td>0.0</td>\n",
       "      <td>179.0</td>\n",
       "      <td>3.517370</td>\n",
       "      <td>0.0</td>\n",
       "      <td>8.804760</td>\n",
       "      <td>17010.0</td>\n",
       "    </tr>\n",
       "    <tr>\n",
       "      <th>PUNJAB</th>\n",
       "      <td>4874</td>\n",
       "      <td>0.0</td>\n",
       "      <td>448.0</td>\n",
       "      <td>14.948502</td>\n",
       "      <td>8.0</td>\n",
       "      <td>25.272373</td>\n",
       "      <td>72859.0</td>\n",
       "    </tr>\n",
       "    <tr>\n",
       "      <th>TAMIL NADU</th>\n",
       "      <td>6486</td>\n",
       "      <td>0.0</td>\n",
       "      <td>13787.0</td>\n",
       "      <td>634.457601</td>\n",
       "      <td>11.0</td>\n",
       "      <td>2032.364822</td>\n",
       "      <td>4115092.0</td>\n",
       "    </tr>\n",
       "    <tr>\n",
       "      <th>UTTAR PRADESH</th>\n",
       "      <td>6486</td>\n",
       "      <td>0.0</td>\n",
       "      <td>1203.0</td>\n",
       "      <td>43.638760</td>\n",
       "      <td>0.0</td>\n",
       "      <td>131.554427</td>\n",
       "      <td>283041.0</td>\n",
       "    </tr>\n",
       "    <tr>\n",
       "      <th>GUJARAT</th>\n",
       "      <td>7292</td>\n",
       "      <td>0.0</td>\n",
       "      <td>1890.0</td>\n",
       "      <td>84.943774</td>\n",
       "      <td>25.0</td>\n",
       "      <td>151.453904</td>\n",
       "      <td>619410.0</td>\n",
       "    </tr>\n",
       "    <tr>\n",
       "      <th>WEST BENGAL</th>\n",
       "      <td>7292</td>\n",
       "      <td>0.0</td>\n",
       "      <td>4962.0</td>\n",
       "      <td>212.441306</td>\n",
       "      <td>40.0</td>\n",
       "      <td>580.958702</td>\n",
       "      <td>1549122.0</td>\n",
       "    </tr>\n",
       "    <tr>\n",
       "      <th>MAHARASHTRA</th>\n",
       "      <td>11322</td>\n",
       "      <td>0.0</td>\n",
       "      <td>1754.0</td>\n",
       "      <td>66.730701</td>\n",
       "      <td>27.0</td>\n",
       "      <td>124.410140</td>\n",
       "      <td>755525.0</td>\n",
       "    </tr>\n",
       "  </tbody>\n",
       "</table>\n",
       "</div>"
      ],
      "text/plain": [
       "                count  min      max        mean  median          std  \\\n",
       "state                                                                  \n",
       "DELHI             806  0.0   1488.0  168.486352   136.0   148.757794   \n",
       "UTTARAKHAND      1612  0.0    383.0   24.782258    20.0    27.525605   \n",
       "TELANGANA        1612  0.0   1038.0   56.153226     0.0    88.913544   \n",
       "KERALA           1650  0.0   3369.0  496.008485    39.5   722.016808   \n",
       "CHHATTISGARH     1650  0.0   1111.0  181.298788    22.5   241.012685   \n",
       "MADHYA PRADESH   1650  0.0   2350.0  348.672121    87.0   455.859267   \n",
       "TRIPURA          2456  0.0    997.0   82.313111    32.0   142.665541   \n",
       "JHARKHAND        2456  0.0    833.0   69.036645    20.0   137.794878   \n",
       "BIHAR            3262  0.0   7691.0  419.025445    25.0  1111.541528   \n",
       "KARNATAKA        3262  0.0   5202.0  519.345494    35.0   972.285346   \n",
       "ORISSA           3262  0.0   5831.0  408.938688    45.0   950.226384   \n",
       "ASSAM            4068  0.0   3208.0  187.618240    28.0   454.378089   \n",
       "HARYANA          4068  0.0    118.0    2.961652     0.0     7.547701   \n",
       "ANDHRA PRADESH   4836  0.0    179.0    3.517370     0.0     8.804760   \n",
       "PUNJAB           4874  0.0    448.0   14.948502     8.0    25.272373   \n",
       "TAMIL NADU       6486  0.0  13787.0  634.457601    11.0  2032.364822   \n",
       "UTTAR PRADESH    6486  0.0   1203.0   43.638760     0.0   131.554427   \n",
       "GUJARAT          7292  0.0   1890.0   84.943774    25.0   151.453904   \n",
       "WEST BENGAL      7292  0.0   4962.0  212.441306    40.0   580.958702   \n",
       "MAHARASHTRA     11322  0.0   1754.0   66.730701    27.0   124.410140   \n",
       "\n",
       "                      sum  \n",
       "state                      \n",
       "DELHI            135800.0  \n",
       "UTTARAKHAND       39949.0  \n",
       "TELANGANA         90519.0  \n",
       "KERALA           818414.0  \n",
       "CHHATTISGARH     299143.0  \n",
       "MADHYA PRADESH   575309.0  \n",
       "TRIPURA          202161.0  \n",
       "JHARKHAND        169554.0  \n",
       "BIHAR           1366861.0  \n",
       "KARNATAKA       1694105.0  \n",
       "ORISSA          1333958.0  \n",
       "ASSAM            763231.0  \n",
       "HARYANA           12048.0  \n",
       "ANDHRA PRADESH    17010.0  \n",
       "PUNJAB            72859.0  \n",
       "TAMIL NADU      4115092.0  \n",
       "UTTAR PRADESH    283041.0  \n",
       "GUJARAT          619410.0  \n",
       "WEST BENGAL     1549122.0  \n",
       "MAHARASHTRA      755525.0  "
      ]
     },
     "execution_count": 179,
     "metadata": {},
     "output_type": "execute_result"
    }
   ],
   "source": [
    "train.groupby('state')['case_count'].agg(['count','min','max','mean','median','std','sum']).sort_values(by='count')\n",
    "# Although the count of Maharashtra is maximum, the sum of all case counts is maximum for Tamil Nadu."
   ]
  },
  {
   "cell_type": "code",
   "execution_count": 180,
   "metadata": {
    "collapsed": false
   },
   "outputs": [
    {
     "data": {
      "text/plain": [
       "<matplotlib.axes._subplots.AxesSubplot at 0x1c29f40f0f0>"
      ]
     },
     "execution_count": 180,
     "metadata": {},
     "output_type": "execute_result"
    },
    {
     "data": {
      "image/png": "[encoded data removed]",
      "text/plain": [
       "<Figure size 432x288 with 1 Axes>"
      ]
     },
     "metadata": {},
     "output_type": "display_data"
    }
   ],
   "source": [
    "train.groupby('state')['case_count'].sum().sort_values().plot(kind='bar')"
   ]
  },
  {
   "cell_type": "code",
   "execution_count": 181,
   "metadata": {
    "collapsed": false
   },
   "outputs": [
    {
     "data": {
      "text/html": [
       "<div>\n",
       "<table border=\"1\" class=\"dataframe\">\n",
       "  <thead>\n",
       "    <tr style=\"text-align: right;\">\n",
       "      <th></th>\n",
       "      <th>count</th>\n",
       "      <th>min</th>\n",
       "      <th>max</th>\n",
       "      <th>mean</th>\n",
       "      <th>median</th>\n",
       "      <th>std</th>\n",
       "      <th>sum</th>\n",
       "    </tr>\n",
       "    <tr>\n",
       "      <th>zone</th>\n",
       "      <th></th>\n",
       "      <th></th>\n",
       "      <th></th>\n",
       "      <th></th>\n",
       "      <th></th>\n",
       "      <th></th>\n",
       "      <th></th>\n",
       "    </tr>\n",
       "  </thead>\n",
       "  <tbody>\n",
       "    <tr>\n",
       "      <th>CENTRAL</th>\n",
       "      <td>1612</td>\n",
       "      <td>0.0</td>\n",
       "      <td>609.0</td>\n",
       "      <td>23.082506</td>\n",
       "      <td>11.0</td>\n",
       "      <td>36.657118</td>\n",
       "      <td>37209.0</td>\n",
       "    </tr>\n",
       "    <tr>\n",
       "      <th>NORTH</th>\n",
       "      <td>8060</td>\n",
       "      <td>0.0</td>\n",
       "      <td>1488.0</td>\n",
       "      <td>27.383002</td>\n",
       "      <td>6.0</td>\n",
       "      <td>69.671582</td>\n",
       "      <td>220707.0</td>\n",
       "    </tr>\n",
       "    <tr>\n",
       "      <th>WEST</th>\n",
       "      <td>16926</td>\n",
       "      <td>0.0</td>\n",
       "      <td>1890.0</td>\n",
       "      <td>46.985053</td>\n",
       "      <td>23.0</td>\n",
       "      <td>77.373460</td>\n",
       "      <td>795269.0</td>\n",
       "    </tr>\n",
       "    <tr>\n",
       "      <th>SOUTH</th>\n",
       "      <td>18538</td>\n",
       "      <td>0.0</td>\n",
       "      <td>1143.0</td>\n",
       "      <td>26.973784</td>\n",
       "      <td>8.0</td>\n",
       "      <td>54.089844</td>\n",
       "      <td>500040.0</td>\n",
       "    </tr>\n",
       "    <tr>\n",
       "      <th>EAST</th>\n",
       "      <td>21762</td>\n",
       "      <td>0.0</td>\n",
       "      <td>1657.0</td>\n",
       "      <td>29.170802</td>\n",
       "      <td>16.0</td>\n",
       "      <td>48.989433</td>\n",
       "      <td>634815.0</td>\n",
       "    </tr>\n",
       "  </tbody>\n",
       "</table>\n",
       "</div>"
      ],
      "text/plain": [
       "         count  min     max       mean  median        std       sum\n",
       "zone                                                               \n",
       "CENTRAL   1612  0.0   609.0  23.082506    11.0  36.657118   37209.0\n",
       "NORTH     8060  0.0  1488.0  27.383002     6.0  69.671582  220707.0\n",
       "WEST     16926  0.0  1890.0  46.985053    23.0  77.373460  795269.0\n",
       "SOUTH    18538  0.0  1143.0  26.973784     8.0  54.089844  500040.0\n",
       "EAST     21762  0.0  1657.0  29.170802    16.0  48.989433  634815.0"
      ]
     },
     "execution_count": 181,
     "metadata": {},
     "output_type": "execute_result"
    }
   ],
   "source": [
    "train.groupby('zone')['case_count'].agg(['count','min','max','mean','median','std','sum']).sort_values(by='count')\n",
    "# Even here, although the count of East zone is maximum, but the total case_counts received in West zone is highest."
   ]
  },
  {
   "cell_type": "code",
   "execution_count": 182,
   "metadata": {
    "collapsed": false
   },
   "outputs": [
    {
     "data": {
      "text/plain": [
       "<matplotlib.axes._subplots.AxesSubplot at 0x1c2bee53940>"
      ]
     },
     "execution_count": 182,
     "metadata": {},
     "output_type": "execute_result"
    },
    {
     "data": {
      "image/png": "[encoded data removed]",
      "text/plain": [
       "<Figure size 432x288 with 1 Axes>"
      ]
     },
     "metadata": {},
     "output_type": "display_data"
    }
   ],
   "source": [
    "train.groupby('zone')['case_count'].sum().sort_values().plot(kind='bar')"
   ]
  },
  {
   "cell_type": "code",
   "execution_count": 183,
   "metadata": {
    "collapsed": false
   },
   "outputs": [],
   "source": [
    "# Let's create some additional datetime based features\n",
    "train['year'] = train.application_date.dt.year\n",
    "train['month'] = train.application_date.dt.month\n",
    "train['dayofweek'] = train.application_date.dt.dayofweek\n",
    "train['day'] = train.application_date.dt.day\n",
    "train['quarter'] = train.application_date.dt.quarter\n",
    "train['is_month_start'] = train.application_date.dt.is_month_start\n",
    "train['is_month_end'] = train.application_date.dt.is_month_end\n",
    "train['is_quarter_start'] = train.application_date.dt.is_quarter_start\n",
    "train['is_quarter_end'] = train.application_date.dt.is_quarter_end"
   ]
  },
  {
   "cell_type": "code",
   "execution_count": 184,
   "metadata": {
    "collapsed": false
   },
   "outputs": [
    {
     "data": {
      "text/html": [
       "<div>\n",
       "<table border=\"1\" class=\"dataframe\">\n",
       "  <thead>\n",
       "    <tr style=\"text-align: right;\">\n",
       "      <th></th>\n",
       "      <th>application_date</th>\n",
       "      <th>segment</th>\n",
       "      <th>branch_id</th>\n",
       "      <th>state</th>\n",
       "      <th>zone</th>\n",
       "      <th>case_count</th>\n",
       "      <th>year</th>\n",
       "      <th>month</th>\n",
       "      <th>dayofweek</th>\n",
       "      <th>day</th>\n",
       "      <th>quarter</th>\n",
       "      <th>is_month_start</th>\n",
       "      <th>is_month_end</th>\n",
       "      <th>is_quarter_start</th>\n",
       "      <th>is_quarter_end</th>\n",
       "    </tr>\n",
       "  </thead>\n",
       "  <tbody>\n",
       "    <tr>\n",
       "      <th>0</th>\n",
       "      <td>2017-04-01</td>\n",
       "      <td>1</td>\n",
       "      <td>1.0</td>\n",
       "      <td>WEST BENGAL</td>\n",
       "      <td>EAST</td>\n",
       "      <td>40.0</td>\n",
       "      <td>2017</td>\n",
       "      <td>4</td>\n",
       "      <td>5</td>\n",
       "      <td>1</td>\n",
       "      <td>2</td>\n",
       "      <td>True</td>\n",
       "      <td>False</td>\n",
       "      <td>True</td>\n",
       "      <td>False</td>\n",
       "    </tr>\n",
       "    <tr>\n",
       "      <th>1</th>\n",
       "      <td>2017-04-03</td>\n",
       "      <td>1</td>\n",
       "      <td>1.0</td>\n",
       "      <td>WEST BENGAL</td>\n",
       "      <td>EAST</td>\n",
       "      <td>5.0</td>\n",
       "      <td>2017</td>\n",
       "      <td>4</td>\n",
       "      <td>0</td>\n",
       "      <td>3</td>\n",
       "      <td>2</td>\n",
       "      <td>False</td>\n",
       "      <td>False</td>\n",
       "      <td>False</td>\n",
       "      <td>False</td>\n",
       "    </tr>\n",
       "    <tr>\n",
       "      <th>2</th>\n",
       "      <td>2017-04-04</td>\n",
       "      <td>1</td>\n",
       "      <td>1.0</td>\n",
       "      <td>WEST BENGAL</td>\n",
       "      <td>EAST</td>\n",
       "      <td>4.0</td>\n",
       "      <td>2017</td>\n",
       "      <td>4</td>\n",
       "      <td>1</td>\n",
       "      <td>4</td>\n",
       "      <td>2</td>\n",
       "      <td>False</td>\n",
       "      <td>False</td>\n",
       "      <td>False</td>\n",
       "      <td>False</td>\n",
       "    </tr>\n",
       "    <tr>\n",
       "      <th>3</th>\n",
       "      <td>2017-04-05</td>\n",
       "      <td>1</td>\n",
       "      <td>1.0</td>\n",
       "      <td>WEST BENGAL</td>\n",
       "      <td>EAST</td>\n",
       "      <td>113.0</td>\n",
       "      <td>2017</td>\n",
       "      <td>4</td>\n",
       "      <td>2</td>\n",
       "      <td>5</td>\n",
       "      <td>2</td>\n",
       "      <td>False</td>\n",
       "      <td>False</td>\n",
       "      <td>False</td>\n",
       "      <td>False</td>\n",
       "    </tr>\n",
       "    <tr>\n",
       "      <th>4</th>\n",
       "      <td>2017-04-07</td>\n",
       "      <td>1</td>\n",
       "      <td>1.0</td>\n",
       "      <td>WEST BENGAL</td>\n",
       "      <td>EAST</td>\n",
       "      <td>76.0</td>\n",
       "      <td>2017</td>\n",
       "      <td>4</td>\n",
       "      <td>4</td>\n",
       "      <td>7</td>\n",
       "      <td>2</td>\n",
       "      <td>False</td>\n",
       "      <td>False</td>\n",
       "      <td>False</td>\n",
       "      <td>False</td>\n",
       "    </tr>\n",
       "  </tbody>\n",
       "</table>\n",
       "</div>"
      ],
      "text/plain": [
       "  application_date  segment  branch_id        state  zone  case_count  year  \\\n",
       "0       2017-04-01        1        1.0  WEST BENGAL  EAST        40.0  2017   \n",
       "1       2017-04-03        1        1.0  WEST BENGAL  EAST         5.0  2017   \n",
       "2       2017-04-04        1        1.0  WEST BENGAL  EAST         4.0  2017   \n",
       "3       2017-04-05        1        1.0  WEST BENGAL  EAST       113.0  2017   \n",
       "4       2017-04-07        1        1.0  WEST BENGAL  EAST        76.0  2017   \n",
       "\n",
       "   month  dayofweek  day  quarter is_month_start is_month_end  \\\n",
       "0      4          5    1        2           True        False   \n",
       "1      4          0    3        2          False        False   \n",
       "2      4          1    4        2          False        False   \n",
       "3      4          2    5        2          False        False   \n",
       "4      4          4    7        2          False        False   \n",
       "\n",
       "  is_quarter_start is_quarter_end  \n",
       "0             True          False  \n",
       "1            False          False  \n",
       "2            False          False  \n",
       "3            False          False  \n",
       "4            False          False  "
      ]
     },
     "execution_count": 184,
     "metadata": {},
     "output_type": "execute_result"
    }
   ],
   "source": [
    "train.head()"
   ]
  },
  {
   "cell_type": "code",
   "execution_count": 185,
   "metadata": {
    "collapsed": true
   },
   "outputs": [],
   "source": [
    "test['year'] = test.application_date.dt.year\n",
    "test['month'] = test.application_date.dt.month\n",
    "test['dayofweek'] = test.application_date.dt.dayofweek\n",
    "test['day'] = test.application_date.dt.day\n",
    "test['quarter'] = test.application_date.dt.quarter\n",
    "test['is_month_start'] = test.application_date.dt.is_month_start\n",
    "test['is_month_end'] = test.application_date.dt.is_month_end\n",
    "test['is_quarter_start'] = test.application_date.dt.is_quarter_start\n",
    "test['is_quarter_end'] = test.application_date.dt.is_quarter_end"
   ]
  },
  {
   "cell_type": "code",
   "execution_count": 186,
   "metadata": {
    "collapsed": false
   },
   "outputs": [
    {
     "data": {
      "text/html": [
       "<div>\n",
       "<table border=\"1\" class=\"dataframe\">\n",
       "  <thead>\n",
       "    <tr style=\"text-align: right;\">\n",
       "      <th></th>\n",
       "      <th>application_date</th>\n",
       "      <th>segment</th>\n",
       "      <th>year</th>\n",
       "      <th>month</th>\n",
       "      <th>dayofweek</th>\n",
       "      <th>day</th>\n",
       "      <th>quarter</th>\n",
       "      <th>is_month_start</th>\n",
       "      <th>is_month_end</th>\n",
       "      <th>is_quarter_start</th>\n",
       "      <th>is_quarter_end</th>\n",
       "    </tr>\n",
       "  </thead>\n",
       "  <tbody>\n",
       "    <tr>\n",
       "      <th>0</th>\n",
       "      <td>2019-07-06</td>\n",
       "      <td>1</td>\n",
       "      <td>2019</td>\n",
       "      <td>7</td>\n",
       "      <td>5</td>\n",
       "      <td>6</td>\n",
       "      <td>3</td>\n",
       "      <td>False</td>\n",
       "      <td>False</td>\n",
       "      <td>False</td>\n",
       "      <td>False</td>\n",
       "    </tr>\n",
       "    <tr>\n",
       "      <th>1</th>\n",
       "      <td>2019-07-07</td>\n",
       "      <td>1</td>\n",
       "      <td>2019</td>\n",
       "      <td>7</td>\n",
       "      <td>6</td>\n",
       "      <td>7</td>\n",
       "      <td>3</td>\n",
       "      <td>False</td>\n",
       "      <td>False</td>\n",
       "      <td>False</td>\n",
       "      <td>False</td>\n",
       "    </tr>\n",
       "    <tr>\n",
       "      <th>2</th>\n",
       "      <td>2019-07-08</td>\n",
       "      <td>1</td>\n",
       "      <td>2019</td>\n",
       "      <td>7</td>\n",
       "      <td>0</td>\n",
       "      <td>8</td>\n",
       "      <td>3</td>\n",
       "      <td>False</td>\n",
       "      <td>False</td>\n",
       "      <td>False</td>\n",
       "      <td>False</td>\n",
       "    </tr>\n",
       "    <tr>\n",
       "      <th>3</th>\n",
       "      <td>2019-07-09</td>\n",
       "      <td>1</td>\n",
       "      <td>2019</td>\n",
       "      <td>7</td>\n",
       "      <td>1</td>\n",
       "      <td>9</td>\n",
       "      <td>3</td>\n",
       "      <td>False</td>\n",
       "      <td>False</td>\n",
       "      <td>False</td>\n",
       "      <td>False</td>\n",
       "    </tr>\n",
       "    <tr>\n",
       "      <th>4</th>\n",
       "      <td>2019-07-10</td>\n",
       "      <td>1</td>\n",
       "      <td>2019</td>\n",
       "      <td>7</td>\n",
       "      <td>2</td>\n",
       "      <td>10</td>\n",
       "      <td>3</td>\n",
       "      <td>False</td>\n",
       "      <td>False</td>\n",
       "      <td>False</td>\n",
       "      <td>False</td>\n",
       "    </tr>\n",
       "  </tbody>\n",
       "</table>\n",
       "</div>"
      ],
      "text/plain": [
       "  application_date  segment  year  month  dayofweek  day  quarter  \\\n",
       "0       2019-07-06        1  2019      7          5    6        3   \n",
       "1       2019-07-07        1  2019      7          6    7        3   \n",
       "2       2019-07-08        1  2019      7          0    8        3   \n",
       "3       2019-07-09        1  2019      7          1    9        3   \n",
       "4       2019-07-10        1  2019      7          2   10        3   \n",
       "\n",
       "  is_month_start is_month_end is_quarter_start is_quarter_end  \n",
       "0          False        False            False          False  \n",
       "1          False        False            False          False  \n",
       "2          False        False            False          False  \n",
       "3          False        False            False          False  \n",
       "4          False        False            False          False  "
      ]
     },
     "execution_count": 186,
     "metadata": {},
     "output_type": "execute_result"
    }
   ],
   "source": [
    "test.head()"
   ]
  },
  {
   "cell_type": "code",
   "execution_count": 187,
   "metadata": {
    "collapsed": false
   },
   "outputs": [
    {
     "data": {
      "text/plain": [
       "<matplotlib.legend.Legend at 0x1c2beef74e0>"
      ]
     },
     "execution_count": 187,
     "metadata": {},
     "output_type": "execute_result"
    },
    {
     "data": {
      "image/png": "[encoded data removed]",
      "text/plain": [
       "<Figure size 720x432 with 1 Axes>"
      ]
     },
     "metadata": {},
     "output_type": "display_data"
    }
   ],
   "source": [
    "train.set_index('application_date').resample('D')['case_count'].sum().plot(kind='line',figsize=(10,6),label='Total_case_Count_by_Day')\n",
    "plt.title(\"Total Case Count by Day\")\n",
    "plt.xlabel('Day')\n",
    "plt.ylabel(\"Sum of Case Counts\")\n",
    "plt.legend(loc='best')\n",
    "# We can see some kind of trend here, the sum total of case counts increases for sometime and then stays almost same. \n",
    "# We can also see a spike that is apart from the trend around July-Oct of 2018."
   ]
  },
  {
   "cell_type": "code",
   "execution_count": 188,
   "metadata": {
    "collapsed": false
   },
   "outputs": [
    {
     "data": {
      "text/plain": [
       "<matplotlib.legend.Legend at 0x1c2a4ac0a90>"
      ]
     },
     "execution_count": 188,
     "metadata": {},
     "output_type": "execute_result"
    },
    {
     "data": {
      "image/png": "[encoded data removed]",
      "text/plain": [
       "<Figure size 720x432 with 1 Axes>"
      ]
     },
     "metadata": {},
     "output_type": "display_data"
    }
   ],
   "source": [
    "train.set_index('application_date').resample('W')['case_count'].sum().plot(kind='line',figsize=(10,6),label='Case_Counts_by_Week')\n",
    "plt.title(\"Case Count by Week\")\n",
    "plt.xlabel('Week')\n",
    "plt.ylabel(\"Case Counts\")\n",
    "plt.legend(loc='best')\n",
    "# We can see increasing and decreasing trends here"
   ]
  },
  {
   "cell_type": "code",
   "execution_count": 189,
   "metadata": {
    "collapsed": false
   },
   "outputs": [
    {
     "data": {
      "text/plain": [
       "<matplotlib.legend.Legend at 0x1c2bf107f28>"
      ]
     },
     "execution_count": 189,
     "metadata": {},
     "output_type": "execute_result"
    },
    {
     "data": {
      "image/png": "[encoded data removed]",
      "text/plain": [
       "<Figure size 720x432 with 1 Axes>"
      ]
     },
     "metadata": {},
     "output_type": "display_data"
    }
   ],
   "source": [
    "train.set_index('application_date').resample('M')['case_count'].sum().plot(kind='line',figsize=(10,6),label='Case_Counts_by_Month')\n",
    "plt.title(\"Case Count by Month\")\n",
    "plt.xlabel('Month')\n",
    "plt.ylabel(\"Case Counts\")\n",
    "plt.legend(loc='best')\n",
    "# We can see a gradual increase for sometime and then series of increasing and decreasing trends followed by a dip at the end"
   ]
  },
  {
   "cell_type": "code",
   "execution_count": 190,
   "metadata": {
    "collapsed": false
   },
   "outputs": [
    {
     "data": {
      "text/plain": [
       "<matplotlib.legend.Legend at 0x1c2bef45908>"
      ]
     },
     "execution_count": 190,
     "metadata": {},
     "output_type": "execute_result"
    },
    {
     "data": {
      "image/png": "[encoded data removed]",
      "text/plain": [
       "<Figure size 720x432 with 1 Axes>"
      ]
     },
     "metadata": {},
     "output_type": "display_data"
    }
   ],
   "source": [
    "train.set_index('application_date')['case_count'].plot(kind='line',figsize=(10,6),label='Case_Counts_by_Day')\n",
    "plt.title(\"Case Count by Day\")\n",
    "plt.xlabel('Day')\n",
    "plt.ylabel(\"Case Counts\")\n",
    "plt.legend(loc='best')\n",
    "# We can see increasing and decreasing trends here"
   ]
  },
  {
   "cell_type": "code",
   "execution_count": 191,
   "metadata": {
    "collapsed": false
   },
   "outputs": [
    {
     "data": {
      "text/plain": [
       "<matplotlib.axes._subplots.AxesSubplot at 0x1c2a54def60>"
      ]
     },
     "execution_count": 191,
     "metadata": {},
     "output_type": "execute_result"
    },
    {
     "data": {
      "image/png": "[encoded data removed]",
      "text/plain": [
       "<Figure size 432x288 with 1 Axes>"
      ]
     },
     "metadata": {},
     "output_type": "display_data"
    }
   ],
   "source": [
    "train.groupby('year')['case_count'].sum().sort_index().plot(kind='bar')\n",
    "# we can see a spike in the total case counts from 2017 to 2018"
   ]
  },
  {
   "cell_type": "code",
   "execution_count": 192,
   "metadata": {
    "collapsed": false
   },
   "outputs": [
    {
     "data": {
      "text/plain": [
       "<matplotlib.axes._subplots.AxesSubplot at 0x1c2bfadecf8>"
      ]
     },
     "execution_count": 192,
     "metadata": {},
     "output_type": "execute_result"
    },
    {
     "data": {
      "image/png": "[encoded data removed]",
      "text/plain": [
       "<Figure size 432x288 with 1 Axes>"
      ]
     },
     "metadata": {},
     "output_type": "display_data"
    }
   ],
   "source": [
    "train.groupby('month')['case_count'].sum().sort_index().plot(kind='bar')\n",
    "# case_count sum is maximum during the month of June followed by July,March and May which are close to each other. It is minimum\n",
    "# in the month of August."
   ]
  },
  {
   "cell_type": "code",
   "execution_count": 193,
   "metadata": {
    "collapsed": false
   },
   "outputs": [
    {
     "data": {
      "text/html": [
       "<div>\n",
       "<table border=\"1\" class=\"dataframe\">\n",
       "  <thead>\n",
       "    <tr style=\"text-align: right;\">\n",
       "      <th></th>\n",
       "      <th>count</th>\n",
       "      <th>min</th>\n",
       "      <th>max</th>\n",
       "      <th>sum</th>\n",
       "      <th>mean</th>\n",
       "    </tr>\n",
       "    <tr>\n",
       "      <th>dayofweek</th>\n",
       "      <th></th>\n",
       "      <th></th>\n",
       "      <th></th>\n",
       "      <th></th>\n",
       "      <th></th>\n",
       "    </tr>\n",
       "  </thead>\n",
       "  <tbody>\n",
       "    <tr>\n",
       "      <th>6</th>\n",
       "      <td>11149</td>\n",
       "      <td>0.0</td>\n",
       "      <td>10250.0</td>\n",
       "      <td>1436647.0</td>\n",
       "      <td>128.858821</td>\n",
       "    </tr>\n",
       "    <tr>\n",
       "      <th>5</th>\n",
       "      <td>11398</td>\n",
       "      <td>0.0</td>\n",
       "      <td>13787.0</td>\n",
       "      <td>2135403.0</td>\n",
       "      <td>187.348921</td>\n",
       "    </tr>\n",
       "    <tr>\n",
       "      <th>2</th>\n",
       "      <td>11548</td>\n",
       "      <td>0.0</td>\n",
       "      <td>11160.0</td>\n",
       "      <td>2314316.0</td>\n",
       "      <td>200.408382</td>\n",
       "    </tr>\n",
       "    <tr>\n",
       "      <th>4</th>\n",
       "      <td>11548</td>\n",
       "      <td>0.0</td>\n",
       "      <td>13118.0</td>\n",
       "      <td>2262137.0</td>\n",
       "      <td>195.889938</td>\n",
       "    </tr>\n",
       "    <tr>\n",
       "      <th>0</th>\n",
       "      <td>11564</td>\n",
       "      <td>0.0</td>\n",
       "      <td>10805.0</td>\n",
       "      <td>2173422.0</td>\n",
       "      <td>187.947250</td>\n",
       "    </tr>\n",
       "    <tr>\n",
       "      <th>1</th>\n",
       "      <td>11564</td>\n",
       "      <td>0.0</td>\n",
       "      <td>11506.0</td>\n",
       "      <td>2280995.0</td>\n",
       "      <td>197.249654</td>\n",
       "    </tr>\n",
       "    <tr>\n",
       "      <th>3</th>\n",
       "      <td>11631</td>\n",
       "      <td>0.0</td>\n",
       "      <td>12908.0</td>\n",
       "      <td>2310191.0</td>\n",
       "      <td>198.623592</td>\n",
       "    </tr>\n",
       "  </tbody>\n",
       "</table>\n",
       "</div>"
      ],
      "text/plain": [
       "           count  min      max        sum        mean\n",
       "dayofweek                                            \n",
       "6          11149  0.0  10250.0  1436647.0  128.858821\n",
       "5          11398  0.0  13787.0  2135403.0  187.348921\n",
       "2          11548  0.0  11160.0  2314316.0  200.408382\n",
       "4          11548  0.0  13118.0  2262137.0  195.889938\n",
       "0          11564  0.0  10805.0  2173422.0  187.947250\n",
       "1          11564  0.0  11506.0  2280995.0  197.249654\n",
       "3          11631  0.0  12908.0  2310191.0  198.623592"
      ]
     },
     "execution_count": 193,
     "metadata": {},
     "output_type": "execute_result"
    }
   ],
   "source": [
    "train.groupby('dayofweek')['case_count'].agg(['count','min','max','sum','mean']).sort_values(by='count')\n",
    "# Thursday has the highest occurence and Sunday has the least. \n",
    "# Wednesday has the highest sum total of case counts."
   ]
  },
  {
   "cell_type": "code",
   "execution_count": 194,
   "metadata": {
    "collapsed": false
   },
   "outputs": [
    {
     "data": {
      "text/html": [
       "<div>\n",
       "<table border=\"1\" class=\"dataframe\">\n",
       "  <thead>\n",
       "    <tr style=\"text-align: right;\">\n",
       "      <th></th>\n",
       "      <th></th>\n",
       "      <th>count</th>\n",
       "      <th>min</th>\n",
       "      <th>max</th>\n",
       "      <th>sum</th>\n",
       "      <th>mean</th>\n",
       "    </tr>\n",
       "    <tr>\n",
       "      <th>year</th>\n",
       "      <th>quarter</th>\n",
       "      <th></th>\n",
       "      <th></th>\n",
       "      <th></th>\n",
       "      <th></th>\n",
       "      <th></th>\n",
       "    </tr>\n",
       "  </thead>\n",
       "  <tbody>\n",
       "    <tr>\n",
       "      <th rowspan=\"3\" valign=\"top\">2017</th>\n",
       "      <th>2</th>\n",
       "      <td>8428</td>\n",
       "      <td>0.0</td>\n",
       "      <td>5274.0</td>\n",
       "      <td>706232.0</td>\n",
       "      <td>83.795918</td>\n",
       "    </tr>\n",
       "    <tr>\n",
       "      <th>3</th>\n",
       "      <td>8361</td>\n",
       "      <td>0.0</td>\n",
       "      <td>8884.0</td>\n",
       "      <td>1197941.0</td>\n",
       "      <td>143.277240</td>\n",
       "    </tr>\n",
       "    <tr>\n",
       "      <th>4</th>\n",
       "      <td>9108</td>\n",
       "      <td>0.0</td>\n",
       "      <td>9963.0</td>\n",
       "      <td>1449814.0</td>\n",
       "      <td>159.180281</td>\n",
       "    </tr>\n",
       "    <tr>\n",
       "      <th rowspan=\"4\" valign=\"top\">2018</th>\n",
       "      <th>1</th>\n",
       "      <td>8578</td>\n",
       "      <td>0.0</td>\n",
       "      <td>11288.0</td>\n",
       "      <td>1728408.0</td>\n",
       "      <td>201.493122</td>\n",
       "    </tr>\n",
       "    <tr>\n",
       "      <th>2</th>\n",
       "      <td>9009</td>\n",
       "      <td>0.0</td>\n",
       "      <td>11241.0</td>\n",
       "      <td>1812629.0</td>\n",
       "      <td>201.202020</td>\n",
       "    </tr>\n",
       "    <tr>\n",
       "      <th>3</th>\n",
       "      <td>9108</td>\n",
       "      <td>0.0</td>\n",
       "      <td>12908.0</td>\n",
       "      <td>2027253.0</td>\n",
       "      <td>222.579381</td>\n",
       "    </tr>\n",
       "    <tr>\n",
       "      <th>4</th>\n",
       "      <td>9108</td>\n",
       "      <td>0.0</td>\n",
       "      <td>11536.0</td>\n",
       "      <td>1919816.0</td>\n",
       "      <td>210.783487</td>\n",
       "    </tr>\n",
       "    <tr>\n",
       "      <th rowspan=\"3\" valign=\"top\">2019</th>\n",
       "      <th>1</th>\n",
       "      <td>8910</td>\n",
       "      <td>0.0</td>\n",
       "      <td>13787.0</td>\n",
       "      <td>1944961.0</td>\n",
       "      <td>218.289675</td>\n",
       "    </tr>\n",
       "    <tr>\n",
       "      <th>2</th>\n",
       "      <td>9009</td>\n",
       "      <td>0.0</td>\n",
       "      <td>10629.0</td>\n",
       "      <td>1734401.0</td>\n",
       "      <td>192.518704</td>\n",
       "    </tr>\n",
       "    <tr>\n",
       "      <th>3</th>\n",
       "      <td>783</td>\n",
       "      <td>0.0</td>\n",
       "      <td>10099.0</td>\n",
       "      <td>391656.0</td>\n",
       "      <td>500.199234</td>\n",
       "    </tr>\n",
       "  </tbody>\n",
       "</table>\n",
       "</div>"
      ],
      "text/plain": [
       "              count  min      max        sum        mean\n",
       "year quarter                                            \n",
       "2017 2         8428  0.0   5274.0   706232.0   83.795918\n",
       "     3         8361  0.0   8884.0  1197941.0  143.277240\n",
       "     4         9108  0.0   9963.0  1449814.0  159.180281\n",
       "2018 1         8578  0.0  11288.0  1728408.0  201.493122\n",
       "     2         9009  0.0  11241.0  1812629.0  201.202020\n",
       "     3         9108  0.0  12908.0  2027253.0  222.579381\n",
       "     4         9108  0.0  11536.0  1919816.0  210.783487\n",
       "2019 1         8910  0.0  13787.0  1944961.0  218.289675\n",
       "     2         9009  0.0  10629.0  1734401.0  192.518704\n",
       "     3          783  0.0  10099.0   391656.0  500.199234"
      ]
     },
     "execution_count": 194,
     "metadata": {},
     "output_type": "execute_result"
    }
   ],
   "source": [
    "train.groupby(['year','quarter'])['case_count'].agg(['count','min','max','sum','mean'])\n",
    "# Count is maximum during the 4th Quarter of 2017 and 3rd and 4th quarter of 2018.\n",
    "# Sum is maximum during 3rd quarter of 2017."
   ]
  },
  {
   "cell_type": "code",
   "execution_count": null,
   "metadata": {
    "collapsed": true
   },
   "outputs": [],
   "source": []
  },
  {
   "cell_type": "markdown",
   "metadata": {},
   "source": [
    "#### Defining the Evaluation Metric"
   ]
  },
  {
   "cell_type": "code",
   "execution_count": 195,
   "metadata": {
    "collapsed": false
   },
   "outputs": [],
   "source": [
    "def mean_absolute_percentage_error(y_true, y_pred): \n",
    "    y_true, y_pred = np.array(y_true), np.array(y_pred)\n",
    "    return np.mean(np.abs((y_pred - y_true) / y_pred)) * 100\n",
    "\n",
    "my_scorer = make_scorer(mean_absolute_percentage_error,greater_is_better=True)\n",
    "\n",
    "def final_mape (mape1,mape2):\n",
    "    return 0.5*mape1+0.5*mape2"
   ]
  },
  {
   "cell_type": "markdown",
   "metadata": {},
   "source": [
    "#### Model Building"
   ]
  },
  {
   "cell_type": "markdown",
   "metadata": {},
   "source": [
    "1. Since we are supposed to forecast sum of case counts at Country level, it makes sense to create dataframe using the current train and test dataframes. \n",
    "2. We can also create additional feature like we did earlier using this new dataframe."
   ]
  },
  {
   "cell_type": "code",
   "execution_count": 196,
   "metadata": {
    "collapsed": false
   },
   "outputs": [
    {
     "data": {
      "text/plain": [
       "(1650, 3)"
      ]
     },
     "execution_count": 196,
     "metadata": {},
     "output_type": "execute_result"
    }
   ],
   "source": [
    "df_train = train.groupby(['application_date','segment'],as_index=False)['case_count'].sum()\n",
    "df_train.shape"
   ]
  },
  {
   "cell_type": "code",
   "execution_count": 197,
   "metadata": {
    "collapsed": true
   },
   "outputs": [],
   "source": [
    "holidays = ['2017-04-05','2017-04-09','2017-04-14','2017-05-01',\n",
    "       '2017-05-10', '2017-06-25', '2017-06-26', '2017-08-07',\n",
    "       '2017-08-14', '2017-08-15', '2017-08-25', '2017-09-02',\n",
    "       '2017-09-04', '2017-09-30', '2017-10-01', '2017-10-02',\n",
    "       '2017-10-19', '2017-12-01', '2017-12-25', '2018-01-01', \n",
    "       '2018-01-14', '2018-01-22', '2018-01-26',\n",
    "       '2018-01-31', '2018-02-10', '2018-02-14', '2018-02-19',\n",
    "       '2018-03-01', '2018-03-02', '2018-03-18', '2018-03-25',\n",
    "       '2018-03-29', '2018-03-30', '2018-04-01', '2018-04-14',\n",
    "       '2018-04-15', '2018-04-30', '2018-05-09', '2018-06-15',\n",
    "       '2018-06-16', '2018-07-14', '2018-08-15', '2018-08-17',\n",
    "       '2018-08-22', '2018-08-25', '2018-08-26', '2018-09-03',\n",
    "       '2018-09-13', '2018-09-21', '2018-10-02', '2018-10-16',\n",
    "       '2018-10-17', '2018-10-18', '2018-10-19', '2018-10-24',\n",
    "       '2018-10-27', '2018-11-06', '2018-11-07', '2018-11-08',\n",
    "       '2018-11-09', '2018-11-13', '2018-11-21', '2018-11-23',\n",
    "       '2018-11-24', '2018-12-24', '2018-12-25', '2019-01-01',\n",
    "       '2019-01-13', '2019-01-14', '2019-01-15', '2019-01-26',\n",
    "       '2019-02-10', '2019-02-19', '2019-03-01', '2019-03-04',\n",
    "       '2019-03-20', '2019-03-21', '2019-04-06', '2019-04-13',\n",
    "       '2019-04-14', '2019-04-15', '2019-04-17', '2019-04-19',\n",
    "       '2019-04-21', '2019-05-09', '2019-05-18', '2019-05-31',\n",
    "       '2019-06-05', '2019-07-04', '2019-08-12', '2019-08-15',\n",
    "       '2019-08-17', '2019-08-24', '2019-09-02', '2019-09-10',\n",
    "       '2019-09-11', '2019-10-02', '2019-10-05', '2019-10-06',\n",
    "       '2019-10-07', '2019-10-08', '2019-10-13', '2019-10-17',\n",
    "       '2019-10-27', '2019-10-28', '2019-10-29', '2019-11-02',\n",
    "       '2019-11-10', '2019-11-12', '2019-11-24', '2019-12-24',\n",
    "       '2019-12-25']"
   ]
  },
  {
   "cell_type": "code",
   "execution_count": 198,
   "metadata": {
    "collapsed": true
   },
   "outputs": [],
   "source": [
    "# defining a function to create a weekend indicator\n",
    "def weekend_indicator(x):\n",
    "    if (x>4 and x<=6):\n",
    "        return True\n",
    "    else:\n",
    "        return False"
   ]
  },
  {
   "cell_type": "code",
   "execution_count": 199,
   "metadata": {
    "collapsed": true
   },
   "outputs": [],
   "source": [
    "df_train['year'] = df_train.application_date.dt.year\n",
    "df_train['month'] = df_train.application_date.dt.month\n",
    "df_train['dayofweek'] = df_train.application_date.dt.dayofweek\n",
    "df_train['day'] = df_train.application_date.dt.day\n",
    "df_train['quarter'] = df_train.application_date.dt.quarter\n",
    "df_train['is_month_start'] = df_train.application_date.dt.is_month_start\n",
    "df_train['is_month_end'] = df_train.application_date.dt.is_month_end\n",
    "df_train['is_quarter_start'] = df_train.application_date.dt.is_quarter_start\n",
    "df_train['is_quarter_end'] = df_train.application_date.dt.is_quarter_end\n",
    "df_train['weekend'] = df_train.dayofweek.apply(weekend_indicator)\n",
    "\n",
    "test['weekend'] = test.dayofweek.apply(weekend_indicator)"
   ]
  },
  {
   "cell_type": "code",
   "execution_count": 200,
   "metadata": {
    "collapsed": true
   },
   "outputs": [],
   "source": [
    "X = df_train[[col for col in df_train.columns if col not in ['application_date','case_count']]]\n",
    "y = df_train['case_count']"
   ]
  },
  {
   "cell_type": "code",
   "execution_count": 201,
   "metadata": {
    "collapsed": true
   },
   "outputs": [],
   "source": [
    "cols = ['year','month','dayofweek','day','quarter']\n",
    "for col in cols:\n",
    "    df_train[col] = df_train[col].astype('category')\n",
    "    test[col] = test[col].astype('category')"
   ]
  },
  {
   "cell_type": "code",
   "execution_count": 202,
   "metadata": {
    "collapsed": false
   },
   "outputs": [
    {
     "name": "stdout",
     "output_type": "stream",
     "text": [
      "(1237, 11)\n",
      "(1237,)\n",
      "(413, 11)\n",
      "(413,)\n"
     ]
    }
   ],
   "source": [
    "X_Train,X_Test,y_Train,y_Test = train_test_split(X,y,test_size=0.25,random_state=42)\n",
    "print (X_Train.shape)\n",
    "print (y_Train.shape)\n",
    "print (X_Test.shape)\n",
    "print (y_Test.shape)"
   ]
  },
  {
   "cell_type": "code",
   "execution_count": 203,
   "metadata": {
    "collapsed": true
   },
   "outputs": [],
   "source": [
    "test.drop('application_date',axis=1,inplace=True)"
   ]
  },
  {
   "cell_type": "code",
   "execution_count": 204,
   "metadata": {
    "collapsed": false
   },
   "outputs": [
    {
     "data": {
      "text/plain": [
       "RandomizedSearchCV(cv=5, error_score='raise-deprecating',\n",
       "                   estimator=RandomForestRegressor(bootstrap=True,\n",
       "                                                   criterion='mse',\n",
       "                                                   max_depth=None,\n",
       "                                                   max_features='auto',\n",
       "                                                   max_leaf_nodes=None,\n",
       "                                                   min_impurity_decrease=0.0,\n",
       "                                                   min_impurity_split=None,\n",
       "                                                   min_samples_leaf=1,\n",
       "                                                   min_samples_split=2,\n",
       "                                                   min_weight_fraction_leaf=0.0,\n",
       "                                                   n_estimators='warn',\n",
       "                                                   n_jobs=-1, oob_score=False,\n",
       "                                                   random_state=42, verbose=0,\n",
       "                                                   warm_start=False),\n",
       "                   iid='warn', n_iter=10, n_jobs=-1,\n",
       "                   param_distributions={'max_depth': [5, 7, 9, 11],\n",
       "                                        'min_samples_leaf': [2, 3, 5, 7],\n",
       "                                        'min_samples_split': [2, 5, 7, 9],\n",
       "                                        'n_estimators': [500, 1000, 1500,\n",
       "                                                         2000]},\n",
       "                   pre_dispatch='2*n_jobs', random_state=None, refit=True,\n",
       "                   return_train_score=False,\n",
       "                   scoring=make_scorer(mean_absolute_percentage_error),\n",
       "                   verbose=0)"
      ]
     },
     "execution_count": 204,
     "metadata": {},
     "output_type": "execute_result"
    }
   ],
   "source": [
    "rf = RandomForestRegressor(n_jobs=-1, random_state=42)\n",
    "parameters = {\"n_estimators\":[500,1000,1500,2000],\n",
    "              \"max_depth\":[5,7,9,11],\n",
    "              \"min_samples_leaf\":[2,3,5,7],\n",
    "              \"min_samples_split\":[2,5,7,9]}\n",
    "search = RandomizedSearchCV(estimator=rf,param_distributions=parameters,cv=5,scoring=my_scorer,n_jobs=-1)\n",
    "search.fit(X_Train,y_Train)"
   ]
  },
  {
   "cell_type": "code",
   "execution_count": 205,
   "metadata": {
    "collapsed": false
   },
   "outputs": [
    {
     "name": "stdout",
     "output_type": "stream",
     "text": [
      "29.803267503041848\n"
     ]
    }
   ],
   "source": [
    "y_pred = search.best_estimator_.predict(X_Test)\n",
    "print (mean_absolute_percentage_error(y_Test,y_pred))"
   ]
  },
  {
   "cell_type": "code",
   "execution_count": 206,
   "metadata": {
    "collapsed": false
   },
   "outputs": [
    {
     "data": {
      "text/plain": [
       "(RandomForestRegressor(bootstrap=True, criterion='mse', max_depth=5,\n",
       "                       max_features='auto', max_leaf_nodes=None,\n",
       "                       min_impurity_decrease=0.0, min_impurity_split=None,\n",
       "                       min_samples_leaf=3, min_samples_split=5,\n",
       "                       min_weight_fraction_leaf=0.0, n_estimators=2000,\n",
       "                       n_jobs=-1, oob_score=False, random_state=42, verbose=0,\n",
       "                       warm_start=False),\n",
       " {'max_depth': 5,\n",
       "  'min_samples_leaf': 3,\n",
       "  'min_samples_split': 5,\n",
       "  'n_estimators': 2000},\n",
       " 27.175611575770553)"
      ]
     },
     "execution_count": 206,
     "metadata": {},
     "output_type": "execute_result"
    }
   ],
   "source": [
    "search.best_estimator_,search.best_params_,search.best_score_"
   ]
  },
  {
   "cell_type": "code",
   "execution_count": 207,
   "metadata": {
    "collapsed": false
   },
   "outputs": [],
   "source": [
    "Submission['case_count'] = search.best_estimator_.predict(test)"
   ]
  },
  {
   "cell_type": "code",
   "execution_count": 208,
   "metadata": {
    "collapsed": true
   },
   "outputs": [],
   "source": [
    "Submission['case_count'] = Submission['case_count'].astype(int)"
   ]
  },
  {
   "cell_type": "code",
   "execution_count": 209,
   "metadata": {
    "collapsed": false
   },
   "outputs": [],
   "source": [
    "Submission.to_csv(\"Submission.csv\",index=None)"
   ]
  },
  {
   "cell_type": "code",
   "execution_count": null,
   "metadata": {
    "collapsed": true
   },
   "outputs": [],
   "source": []
  },
  {
   "cell_type": "code",
   "execution_count": null,
   "metadata": {
    "collapsed": true
   },
   "outputs": [],
   "source": []
  },
  {
   "cell_type": "code",
   "execution_count": null,
   "metadata": {
    "collapsed": true
   },
   "outputs": [],
   "source": []
  }
 ],
 "metadata": {
  "kernelspec": {
   "display_name": "Python 3",
   "language": "python",
   "name": "python3"
  },
  "language_info": {
   "codemirror_mode": {
    "name": "ipython",
    "version": 3
   },
   "file_extension": ".py",
   "mimetype": "text/x-python",
   "name": "python",
   "nbconvert_exporter": "python",
   "pygments_lexer": "ipython3",
   "version": "3.6.8"
  }
 },
 "nbformat": 4,
 "nbformat_minor": 2
}
